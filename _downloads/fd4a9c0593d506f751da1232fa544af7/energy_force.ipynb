{
  "cells": [
    {
      "cell_type": "code",
      "execution_count": null,
      "metadata": {
        "collapsed": false
      },
      "outputs": [],
      "source": [
        "%matplotlib inline"
      ]
    },
    {
      "cell_type": "markdown",
      "metadata": {},
      "source": [
        "\nComputing Energy and Force Using Builtin Models\n===============================================\n\nTorchANI has a model ensemble trained by NeuroChem on the `ANI-1x dataset`_.\nThese models are shipped with TorchANI and can be used directly.\n\n  https://aip.scitation.org/doi/abs/10.1063/1.5023802\n\n"
      ]
    },
    {
      "cell_type": "markdown",
      "metadata": {},
      "source": [
        "To begin with, let's first import the modules we will use:\n\n"
      ]
    },
    {
      "cell_type": "code",
      "execution_count": null,
      "metadata": {
        "collapsed": false
      },
      "outputs": [],
      "source": [
        "import torch\nimport torchani"
      ]
    },
    {
      "cell_type": "markdown",
      "metadata": {},
      "source": [
        "Let's now manually specify the device we want TorchANI to run:\n\n"
      ]
    },
    {
      "cell_type": "code",
      "execution_count": null,
      "metadata": {
        "collapsed": false
      },
      "outputs": [],
      "source": [
        "device = torch.device('cpu')"
      ]
    },
    {
      "cell_type": "markdown",
      "metadata": {},
      "source": [
        "Let's now load the built-in models and create a pipeline of AEV computer,\nneural networks, and energy shifter. This pipeline will first compute AEV,\nthen use all models in the ensemble to compute molecular energies, and take\nthe average of these energies to obtain a final output. The reason we need an\nenergy shifter in the end is that the output of these networks is not the\ntotal energy but the total energy subtracted by a self energy for each atom.\n\n"
      ]
    },
    {
      "cell_type": "code",
      "execution_count": null,
      "metadata": {
        "collapsed": false
      },
      "outputs": [],
      "source": [
        "builtin = torchani.neurochem.Builtins()\nmodel = torch.nn.Sequential(\n  builtin.aev_computer,\n  builtin.models,\n  builtin.energy_shifter\n)"
      ]
    },
    {
      "cell_type": "markdown",
      "metadata": {},
      "source": [
        "Now let's define the coordinate and species. If you just want to compute the\nenergy and force for a single structure like in this example, you need to\nmake the coordinate tensor has shape ``(1, Na, 3)`` and species has shape\n``(1, Na)``, where ``Na`` is the number of atoms in the molecule, the\npreceding ``1`` in the shape is here to support batch processing like in\ntraining. If you have ``N`` different structures to compute, then make it\n``N``.\n\n"
      ]
    },
    {
      "cell_type": "code",
      "execution_count": null,
      "metadata": {
        "collapsed": false
      },
      "outputs": [],
      "source": [
        "coordinates = torch.tensor([[[0.03192167,  0.00638559,  0.01301679],\n                             [-0.83140486,  0.39370209, -0.26395324],\n                             [-0.66518241, -0.84461308,  0.20759389],\n                             [0.45554739,   0.54289633,  0.81170881],\n                             [0.66091919,  -0.16799635, -0.91037834]]],\n                           requires_grad=True, device=device)\nspecies = builtin.consts.species_to_tensor('CHHHH').to(device).unsqueeze(0)"
      ]
    },
    {
      "cell_type": "markdown",
      "metadata": {},
      "source": [
        "Now let's compute energy and force:\n\n"
      ]
    },
    {
      "cell_type": "code",
      "execution_count": null,
      "metadata": {
        "collapsed": false
      },
      "outputs": [],
      "source": [
        "_, energy = model((species, coordinates))\nderivative = torch.autograd.grad(energy.sum(), coordinates)[0]\nforce = -derivative"
      ]
    },
    {
      "cell_type": "markdown",
      "metadata": {},
      "source": [
        "And print to see the result:\n\n"
      ]
    },
    {
      "cell_type": "code",
      "execution_count": null,
      "metadata": {
        "collapsed": false
      },
      "outputs": [],
      "source": [
        "print('Energy:', energy.item())\nprint('Force:', force.squeeze())"
      ]
    }
  ],
  "metadata": {
    "kernelspec": {
      "display_name": "Python 3",
      "language": "python",
      "name": "python3"
    },
    "language_info": {
      "codemirror_mode": {
        "name": "ipython",
        "version": 3
      },
      "file_extension": ".py",
      "mimetype": "text/x-python",
      "name": "python",
      "nbconvert_exporter": "python",
      "pygments_lexer": "ipython3",
      "version": "3.7.0"
    }
  },
  "nbformat": 4,
  "nbformat_minor": 0
}