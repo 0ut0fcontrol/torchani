{
 "cells": [
  {
   "cell_type": "code",
   "execution_count": 1,
   "metadata": {},
   "outputs": [
    {
     "name": "stderr",
     "output_type": "stream",
     "text": [
      "/usr/local/anaconda3/lib/python3.6/site-packages/h5py/__init__.py:34: FutureWarning: Conversion of the second argument of issubdtype from `float` to `np.floating` is deprecated. In future, it will be treated as `np.float64 == np.dtype(float).type`.\n",
      "  from ._conv import register_converters as _register_converters\n"
     ]
    },
    {
     "name": "stdout",
     "output_type": "stream",
     "text": [
      "van Der Waals correction will be unavailable. Please install ased3\n"
     ]
    }
   ],
   "source": [
    "import h5py\n",
    "import torch\n",
    "from selected_system import mols, mol_file\n",
    "from ani_benchmark import ANIBenchmark\n",
    "import pandas\n",
    "import os\n",
    "import tqdm\n",
    "from IPython.display import display\n",
    "import itertools\n",
    "tqdm.monitor_interval = 0\n",
    "\n",
    "def pretty_print(orig_dict):\n",
    "    \"\"\"Pretty print times in a dictionary\"\"\"\n",
    "    ret = {}\n",
    "    for i in orig_dict:\n",
    "        if orig_dict[i] is None:\n",
    "            ret[i] = None\n",
    "        else:\n",
    "            ms = int(orig_dict[i])\n",
    "            s = ms / 1000\n",
    "            m = s / 60\n",
    "            h = m / 60\n",
    "            if ms < 1000:\n",
    "                p = '{}ms'.format(ms)\n",
    "            elif s < 60:\n",
    "                p = '{:.2f}s'.format(s)\n",
    "            elif m < 60:\n",
    "                p = '{:.2f}min'.format(m)\n",
    "            else:\n",
    "                p = '{:.2f}min'.format(h)\n",
    "            ret[i] = p\n",
    "    return ret"
   ]
  },
  {
   "cell_type": "code",
   "execution_count": 2,
   "metadata": {},
   "outputs": [],
   "source": [
    "torch.set_num_threads(1)\n",
    "fm = h5py.File(os.path.join('../',mol_file), \"r\")\n",
    "\n",
    "benchmarks = {\n",
    "    'C': ANIBenchmark(device=torch.device(\"cpu\")),\n",
    "}\n",
    "\n",
    "if torch.cuda.is_available():\n",
    "    benchmarks.update({\n",
    "        'G': ANIBenchmark(device=torch.device(\"cuda\")),\n",
    "    })"
   ]
  },
  {
   "cell_type": "code",
   "execution_count": 3,
   "metadata": {},
   "outputs": [
    {
     "name": "stdout",
     "output_type": "stream",
     "text": [
      "number of atoms: 20\n",
      "Running benchmark on molecule COC(=O)c1ccc([N+](=O)[O-])cc1\n"
     ]
    },
    {
     "data": {
      "application/vnd.jupyter.widget-view+json": {
       "model_id": "387def7009f3414a90915a365b5870cd",
       "version_major": 2,
       "version_minor": 0
      },
      "text/plain": [
       "A Jupyter Widget"
      ]
     },
     "metadata": {},
     "output_type": "display_data"
    },
    {
     "name": "stdout",
     "output_type": "stream",
     "text": [
      "\n"
     ]
    },
    {
     "data": {
      "text/html": [
       "<div>\n",
       "<style>\n",
       "    .dataframe thead tr:only-child th {\n",
       "        text-align: right;\n",
       "    }\n",
       "\n",
       "    .dataframe thead th {\n",
       "        text-align: left;\n",
       "    }\n",
       "\n",
       "    .dataframe tbody tr th {\n",
       "        vertical-align: top;\n",
       "    }\n",
       "</style>\n",
       "<table border=\"1\" class=\"dataframe\">\n",
       "  <thead>\n",
       "    <tr style=\"text-align: right;\">\n",
       "      <th></th>\n",
       "      <th>C,1</th>\n",
       "      <th>C,B</th>\n",
       "      <th>G,1</th>\n",
       "      <th>G,B</th>\n",
       "    </tr>\n",
       "  </thead>\n",
       "  <tbody>\n",
       "    <tr>\n",
       "      <th>aev</th>\n",
       "      <td>8.14s</td>\n",
       "      <td>391ms</td>\n",
       "      <td>21.39s</td>\n",
       "      <td>154ms</td>\n",
       "    </tr>\n",
       "    <tr>\n",
       "      <th>energy</th>\n",
       "      <td>653ms</td>\n",
       "      <td>28ms</td>\n",
       "      <td>1.57s</td>\n",
       "      <td>7ms</td>\n",
       "    </tr>\n",
       "    <tr>\n",
       "      <th>force</th>\n",
       "      <td>9.37s</td>\n",
       "      <td>864ms</td>\n",
       "      <td>30.65s</td>\n",
       "      <td>193ms</td>\n",
       "    </tr>\n",
       "    <tr>\n",
       "      <th>forward</th>\n",
       "      <td>9.20s</td>\n",
       "      <td>424ms</td>\n",
       "      <td>25.62s</td>\n",
       "      <td>173ms</td>\n",
       "    </tr>\n",
       "    <tr>\n",
       "      <th>neighborlist</th>\n",
       "      <td>408ms</td>\n",
       "      <td>4ms</td>\n",
       "      <td>2.65s</td>\n",
       "      <td>11ms</td>\n",
       "    </tr>\n",
       "    <tr>\n",
       "      <th>total</th>\n",
       "      <td>18.57s</td>\n",
       "      <td>1.29s</td>\n",
       "      <td>56.27s</td>\n",
       "      <td>367ms</td>\n",
       "    </tr>\n",
       "  </tbody>\n",
       "</table>\n",
       "</div>"
      ],
      "text/plain": [
       "                 C,1    C,B     G,1    G,B\n",
       "aev            8.14s  391ms  21.39s  154ms\n",
       "energy         653ms   28ms   1.57s    7ms\n",
       "force          9.37s  864ms  30.65s  193ms\n",
       "forward        9.20s  424ms  25.62s  173ms\n",
       "neighborlist   408ms    4ms   2.65s   11ms\n",
       "total         18.57s  1.29s  56.27s  367ms"
      ]
     },
     "metadata": {},
     "output_type": "display_data"
    },
    {
     "name": "stdout",
     "output_type": "stream",
     "text": [
      "number of atoms: 50\n",
      "Running benchmark on molecule O=[N+]([O-])c1ccc(NN=Cc2ccc(C=NNc3ccc([N+](=O)[O-])cc3[N+](=O)[O-])cc2)c([N+](=O)[O-])c1\n"
     ]
    },
    {
     "data": {
      "application/vnd.jupyter.widget-view+json": {
       "model_id": "73a1c000c5084dafbdfdca865b95d36c",
       "version_major": 2,
       "version_minor": 0
      },
      "text/plain": [
       "A Jupyter Widget"
      ]
     },
     "metadata": {},
     "output_type": "display_data"
    },
    {
     "name": "stdout",
     "output_type": "stream",
     "text": [
      "\n"
     ]
    },
    {
     "data": {
      "text/html": [
       "<div>\n",
       "<style>\n",
       "    .dataframe thead tr:only-child th {\n",
       "        text-align: right;\n",
       "    }\n",
       "\n",
       "    .dataframe thead th {\n",
       "        text-align: left;\n",
       "    }\n",
       "\n",
       "    .dataframe tbody tr th {\n",
       "        vertical-align: top;\n",
       "    }\n",
       "</style>\n",
       "<table border=\"1\" class=\"dataframe\">\n",
       "  <thead>\n",
       "    <tr style=\"text-align: right;\">\n",
       "      <th></th>\n",
       "      <th>C,1</th>\n",
       "      <th>C,B</th>\n",
       "      <th>G,1</th>\n",
       "      <th>G,B</th>\n",
       "    </tr>\n",
       "  </thead>\n",
       "  <tbody>\n",
       "    <tr>\n",
       "      <th>aev</th>\n",
       "      <td>24.39s</td>\n",
       "      <td>1.70s</td>\n",
       "      <td>1.05min</td>\n",
       "      <td>524ms</td>\n",
       "    </tr>\n",
       "    <tr>\n",
       "      <th>energy</th>\n",
       "      <td>1.51s</td>\n",
       "      <td>63ms</td>\n",
       "      <td>3.91s</td>\n",
       "      <td>20ms</td>\n",
       "    </tr>\n",
       "    <tr>\n",
       "      <th>force</th>\n",
       "      <td>31.49s</td>\n",
       "      <td>3.88s</td>\n",
       "      <td>1.52min</td>\n",
       "      <td>718ms</td>\n",
       "    </tr>\n",
       "    <tr>\n",
       "      <th>forward</th>\n",
       "      <td>26.90s</td>\n",
       "      <td>1.79s</td>\n",
       "      <td>1.23min</td>\n",
       "      <td>588ms</td>\n",
       "    </tr>\n",
       "    <tr>\n",
       "      <th>neighborlist</th>\n",
       "      <td>1.00s</td>\n",
       "      <td>35ms</td>\n",
       "      <td>6.70s</td>\n",
       "      <td>43ms</td>\n",
       "    </tr>\n",
       "    <tr>\n",
       "      <th>total</th>\n",
       "      <td>58.40s</td>\n",
       "      <td>5.68s</td>\n",
       "      <td>2.76min</td>\n",
       "      <td>1.31s</td>\n",
       "    </tr>\n",
       "  </tbody>\n",
       "</table>\n",
       "</div>"
      ],
      "text/plain": [
       "                 C,1    C,B      G,1    G,B\n",
       "aev           24.39s  1.70s  1.05min  524ms\n",
       "energy         1.51s   63ms    3.91s   20ms\n",
       "force         31.49s  3.88s  1.52min  718ms\n",
       "forward       26.90s  1.79s  1.23min  588ms\n",
       "neighborlist   1.00s   35ms    6.70s   43ms\n",
       "total         58.40s  5.68s  2.76min  1.31s"
      ]
     },
     "metadata": {},
     "output_type": "display_data"
    },
    {
     "name": "stdout",
     "output_type": "stream",
     "text": [
      "number of atoms: 10\n",
      "Running benchmark on molecule N#CCC(=O)N\n"
     ]
    },
    {
     "data": {
      "application/vnd.jupyter.widget-view+json": {
       "model_id": "7bf37e7d11e94445ae317be585af12b4",
       "version_major": 2,
       "version_minor": 0
      },
      "text/plain": [
       "A Jupyter Widget"
      ]
     },
     "metadata": {},
     "output_type": "display_data"
    },
    {
     "name": "stdout",
     "output_type": "stream",
     "text": [
      "\n"
     ]
    },
    {
     "data": {
      "text/html": [
       "<div>\n",
       "<style>\n",
       "    .dataframe thead tr:only-child th {\n",
       "        text-align: right;\n",
       "    }\n",
       "\n",
       "    .dataframe thead th {\n",
       "        text-align: left;\n",
       "    }\n",
       "\n",
       "    .dataframe tbody tr th {\n",
       "        vertical-align: top;\n",
       "    }\n",
       "</style>\n",
       "<table border=\"1\" class=\"dataframe\">\n",
       "  <thead>\n",
       "    <tr style=\"text-align: right;\">\n",
       "      <th></th>\n",
       "      <th>C,1</th>\n",
       "      <th>C,B</th>\n",
       "      <th>G,1</th>\n",
       "      <th>G,B</th>\n",
       "    </tr>\n",
       "  </thead>\n",
       "  <tbody>\n",
       "    <tr>\n",
       "      <th>aev</th>\n",
       "      <td>4.71s</td>\n",
       "      <td>156ms</td>\n",
       "      <td>12.29s</td>\n",
       "      <td>98ms</td>\n",
       "    </tr>\n",
       "    <tr>\n",
       "      <th>energy</th>\n",
       "      <td>339ms</td>\n",
       "      <td>14ms</td>\n",
       "      <td>798ms</td>\n",
       "      <td>4ms</td>\n",
       "    </tr>\n",
       "    <tr>\n",
       "      <th>force</th>\n",
       "      <td>5.01s</td>\n",
       "      <td>288ms</td>\n",
       "      <td>17.38s</td>\n",
       "      <td>106ms</td>\n",
       "    </tr>\n",
       "    <tr>\n",
       "      <th>forward</th>\n",
       "      <td>5.26s</td>\n",
       "      <td>173ms</td>\n",
       "      <td>14.43s</td>\n",
       "      <td>108ms</td>\n",
       "    </tr>\n",
       "    <tr>\n",
       "      <th>neighborlist</th>\n",
       "      <td>205ms</td>\n",
       "      <td>2ms</td>\n",
       "      <td>1.33s</td>\n",
       "      <td>5ms</td>\n",
       "    </tr>\n",
       "    <tr>\n",
       "      <th>total</th>\n",
       "      <td>10.27s</td>\n",
       "      <td>461ms</td>\n",
       "      <td>31.80s</td>\n",
       "      <td>214ms</td>\n",
       "    </tr>\n",
       "  </tbody>\n",
       "</table>\n",
       "</div>"
      ],
      "text/plain": [
       "                 C,1    C,B     G,1    G,B\n",
       "aev            4.71s  156ms  12.29s   98ms\n",
       "energy         339ms   14ms   798ms    4ms\n",
       "force          5.01s  288ms  17.38s  106ms\n",
       "forward        5.26s  173ms  14.43s  108ms\n",
       "neighborlist   205ms    2ms   1.33s    5ms\n",
       "total         10.27s  461ms  31.80s  214ms"
      ]
     },
     "metadata": {},
     "output_type": "display_data"
    },
    {
     "name": "stdout",
     "output_type": "stream",
     "text": [
      "number of atoms: 4,5,6\n",
      "Running benchmark on molecule C\n"
     ]
    },
    {
     "data": {
      "application/vnd.jupyter.widget-view+json": {
       "model_id": "7ed72d0483fa4a7592c14b12f8564be2",
       "version_major": 2,
       "version_minor": 0
      },
      "text/plain": [
       "A Jupyter Widget"
      ]
     },
     "metadata": {},
     "output_type": "display_data"
    },
    {
     "name": "stdout",
     "output_type": "stream",
     "text": [
      "\n"
     ]
    },
    {
     "data": {
      "text/html": [
       "<div>\n",
       "<style>\n",
       "    .dataframe thead tr:only-child th {\n",
       "        text-align: right;\n",
       "    }\n",
       "\n",
       "    .dataframe thead th {\n",
       "        text-align: left;\n",
       "    }\n",
       "\n",
       "    .dataframe tbody tr th {\n",
       "        vertical-align: top;\n",
       "    }\n",
       "</style>\n",
       "<table border=\"1\" class=\"dataframe\">\n",
       "  <thead>\n",
       "    <tr style=\"text-align: right;\">\n",
       "      <th></th>\n",
       "      <th>C,1</th>\n",
       "      <th>C,B</th>\n",
       "      <th>G,1</th>\n",
       "      <th>G,B</th>\n",
       "    </tr>\n",
       "  </thead>\n",
       "  <tbody>\n",
       "    <tr>\n",
       "      <th>aev</th>\n",
       "      <td>834ms</td>\n",
       "      <td>18ms</td>\n",
       "      <td>2.18s</td>\n",
       "      <td>12ms</td>\n",
       "    </tr>\n",
       "    <tr>\n",
       "      <th>energy</th>\n",
       "      <td>175ms</td>\n",
       "      <td>6ms</td>\n",
       "      <td>435ms</td>\n",
       "      <td>2ms</td>\n",
       "    </tr>\n",
       "    <tr>\n",
       "      <th>force</th>\n",
       "      <td>958ms</td>\n",
       "      <td>49ms</td>\n",
       "      <td>3.37s</td>\n",
       "      <td>21ms</td>\n",
       "    </tr>\n",
       "    <tr>\n",
       "      <th>forward</th>\n",
       "      <td>1.11s</td>\n",
       "      <td>25ms</td>\n",
       "      <td>3.30s</td>\n",
       "      <td>17ms</td>\n",
       "    </tr>\n",
       "    <tr>\n",
       "      <th>neighborlist</th>\n",
       "      <td>101ms</td>\n",
       "      <td>0ms</td>\n",
       "      <td>686ms</td>\n",
       "      <td>3ms</td>\n",
       "    </tr>\n",
       "    <tr>\n",
       "      <th>total</th>\n",
       "      <td>2.07s</td>\n",
       "      <td>74ms</td>\n",
       "      <td>6.67s</td>\n",
       "      <td>39ms</td>\n",
       "    </tr>\n",
       "  </tbody>\n",
       "</table>\n",
       "</div>"
      ],
      "text/plain": [
       "                C,1   C,B    G,1   G,B\n",
       "aev           834ms  18ms  2.18s  12ms\n",
       "energy        175ms   6ms  435ms   2ms\n",
       "force         958ms  49ms  3.37s  21ms\n",
       "forward       1.11s  25ms  3.30s  17ms\n",
       "neighborlist  101ms   0ms  686ms   3ms\n",
       "total         2.07s  74ms  6.67s  39ms"
      ]
     },
     "metadata": {},
     "output_type": "display_data"
    },
    {
     "name": "stdout",
     "output_type": "stream",
     "text": [
      "number of atoms: 100\n",
      "Running benchmark on molecule CC(C)C[C@@H](C(=O)O)NC(=O)C[C@@H]([C@H](CC1CCCCC1)NC(=O)CC[C@@H]([C@H](Cc2ccccc2)NC(=O)OC(C)(C)C)O)O\n"
     ]
    },
    {
     "data": {
      "application/vnd.jupyter.widget-view+json": {
       "model_id": "1ce4d00306c64cff882955913e7c486d",
       "version_major": 2,
       "version_minor": 0
      },
      "text/plain": [
       "A Jupyter Widget"
      ]
     },
     "metadata": {},
     "output_type": "display_data"
    },
    {
     "name": "stdout",
     "output_type": "stream",
     "text": [
      "\n"
     ]
    },
    {
     "data": {
      "text/html": [
       "<div>\n",
       "<style>\n",
       "    .dataframe thead tr:only-child th {\n",
       "        text-align: right;\n",
       "    }\n",
       "\n",
       "    .dataframe thead th {\n",
       "        text-align: left;\n",
       "    }\n",
       "\n",
       "    .dataframe tbody tr th {\n",
       "        vertical-align: top;\n",
       "    }\n",
       "</style>\n",
       "<table border=\"1\" class=\"dataframe\">\n",
       "  <thead>\n",
       "    <tr style=\"text-align: right;\">\n",
       "      <th></th>\n",
       "      <th>C,1</th>\n",
       "      <th>C,B</th>\n",
       "      <th>G,1</th>\n",
       "      <th>G,B</th>\n",
       "    </tr>\n",
       "  </thead>\n",
       "  <tbody>\n",
       "    <tr>\n",
       "      <th>aev</th>\n",
       "      <td>55.33s</td>\n",
       "      <td>8.82s</td>\n",
       "      <td>2.48min</td>\n",
       "      <td>1.74s</td>\n",
       "    </tr>\n",
       "    <tr>\n",
       "      <th>energy</th>\n",
       "      <td>2.85s</td>\n",
       "      <td>126ms</td>\n",
       "      <td>7.59s</td>\n",
       "      <td>40ms</td>\n",
       "    </tr>\n",
       "    <tr>\n",
       "      <th>force</th>\n",
       "      <td>1.45min</td>\n",
       "      <td>22.75s</td>\n",
       "      <td>3.59min</td>\n",
       "      <td>2.24s</td>\n",
       "    </tr>\n",
       "    <tr>\n",
       "      <th>forward</th>\n",
       "      <td>1.00min</td>\n",
       "      <td>9.03s</td>\n",
       "      <td>2.84min</td>\n",
       "      <td>1.85s</td>\n",
       "    </tr>\n",
       "    <tr>\n",
       "      <th>neighborlist</th>\n",
       "      <td>2.02s</td>\n",
       "      <td>78ms</td>\n",
       "      <td>14.11s</td>\n",
       "      <td>69ms</td>\n",
       "    </tr>\n",
       "    <tr>\n",
       "      <th>total</th>\n",
       "      <td>2.45min</td>\n",
       "      <td>31.77s</td>\n",
       "      <td>6.43min</td>\n",
       "      <td>4.09s</td>\n",
       "    </tr>\n",
       "  </tbody>\n",
       "</table>\n",
       "</div>"
      ],
      "text/plain": [
       "                  C,1     C,B      G,1    G,B\n",
       "aev            55.33s   8.82s  2.48min  1.74s\n",
       "energy          2.85s   126ms    7.59s   40ms\n",
       "force         1.45min  22.75s  3.59min  2.24s\n",
       "forward       1.00min   9.03s  2.84min  1.85s\n",
       "neighborlist    2.02s    78ms   14.11s   69ms\n",
       "total         2.45min  31.77s  6.43min  4.09s"
      ]
     },
     "metadata": {},
     "output_type": "display_data"
    },
    {
     "name": "stdout",
     "output_type": "stream",
     "text": [
      "number of atoms: 305\n",
      "Running benchmark on molecule [H]/N=C(/N)\\NCCC[C@H](C(=O)N[C@H]([C@@H](C)O)C(=O)N[C@H](Cc1ccc(cc1)O)C(=O)NCCCC[C@@H](C(=O)NCCCC[C@@H](C(=O)NCC(=O)O)NC(=O)[C@H](CCCCNC(=O)[C@@H](Cc2ccc(cc2)O)NC(=O)[C@@H]([C@@H](C)O)NC(=O)[C@@H](CCCN/C(=N\\[H])/N)N)NC(=O)[C@@H](Cc3ccc(cc3)O)NC(=O)[C@@H]([C@@H](C)O)NC(=O)[C@@H](CCCN/C(=N\\[H])/N)N)NC(=O)[C@@H](Cc4ccc(cc4)O)NC(=O)[C@@H]([C@@H](C)O)NC(=O)[C@@H](CCCN/C(=N\\[H])/N)N)N\n"
     ]
    },
    {
     "data": {
      "application/vnd.jupyter.widget-view+json": {
       "model_id": "79b3a15de6954569a999bb52ccf894bb",
       "version_major": 2,
       "version_minor": 0
      },
      "text/plain": [
       "A Jupyter Widget"
      ]
     },
     "metadata": {},
     "output_type": "display_data"
    },
    {
     "name": "stdout",
     "output_type": "stream",
     "text": [
      "\n"
     ]
    },
    {
     "data": {
      "text/html": [
       "<div>\n",
       "<style>\n",
       "    .dataframe thead tr:only-child th {\n",
       "        text-align: right;\n",
       "    }\n",
       "\n",
       "    .dataframe thead th {\n",
       "        text-align: left;\n",
       "    }\n",
       "\n",
       "    .dataframe tbody tr th {\n",
       "        vertical-align: top;\n",
       "    }\n",
       "</style>\n",
       "<table border=\"1\" class=\"dataframe\">\n",
       "  <thead>\n",
       "    <tr style=\"text-align: right;\">\n",
       "      <th></th>\n",
       "      <th>C,1</th>\n",
       "      <th>C,B</th>\n",
       "      <th>G,1</th>\n",
       "      <th>G,B</th>\n",
       "    </tr>\n",
       "  </thead>\n",
       "  <tbody>\n",
       "    <tr>\n",
       "      <th>aev</th>\n",
       "      <td>2.87min</td>\n",
       "      <td>25.13s</td>\n",
       "      <td>7.85min</td>\n",
       "      <td>9.33s</td>\n",
       "    </tr>\n",
       "    <tr>\n",
       "      <th>energy</th>\n",
       "      <td>8.54s</td>\n",
       "      <td>416ms</td>\n",
       "      <td>23.94s</td>\n",
       "      <td>212ms</td>\n",
       "    </tr>\n",
       "    <tr>\n",
       "      <th>force</th>\n",
       "      <td>5.27min</td>\n",
       "      <td>3.33min</td>\n",
       "      <td>12.71min</td>\n",
       "      <td>11.43s</td>\n",
       "    </tr>\n",
       "    <tr>\n",
       "      <th>forward</th>\n",
       "      <td>3.14min</td>\n",
       "      <td>26.27s</td>\n",
       "      <td>9.05min</td>\n",
       "      <td>10.07s</td>\n",
       "    </tr>\n",
       "    <tr>\n",
       "      <th>neighborlist</th>\n",
       "      <td>7.35s</td>\n",
       "      <td>721ms</td>\n",
       "      <td>48.06s</td>\n",
       "      <td>523ms</td>\n",
       "    </tr>\n",
       "    <tr>\n",
       "      <th>total</th>\n",
       "      <td>8.40min</td>\n",
       "      <td>3.76min</td>\n",
       "      <td>21.76min</td>\n",
       "      <td>21.49s</td>\n",
       "    </tr>\n",
       "  </tbody>\n",
       "</table>\n",
       "</div>"
      ],
      "text/plain": [
       "                  C,1      C,B       G,1     G,B\n",
       "aev           2.87min   25.13s   7.85min   9.33s\n",
       "energy          8.54s    416ms    23.94s   212ms\n",
       "force         5.27min  3.33min  12.71min  11.43s\n",
       "forward       3.14min   26.27s   9.05min  10.07s\n",
       "neighborlist    7.35s    721ms    48.06s   523ms\n",
       "total         8.40min  3.76min  21.76min  21.49s"
      ]
     },
     "metadata": {},
     "output_type": "display_data"
    }
   ],
   "source": [
    "for i in mols:\n",
    "    print('number of atoms:', i)\n",
    "    smiles = mols[i]\n",
    "    for s in smiles:\n",
    "        print('Running benchmark on molecule', s)\n",
    "        key = s.replace('/', '_')\n",
    "        coordinates = torch.from_numpy(fm[key][()])\n",
    "        coordinates = coordinates[:200]\n",
    "        species = fm[key].attrs['species'].split()\n",
    "        results = {}\n",
    "        for b,m in tqdm.tqdm_notebook(list(itertools.product(benchmarks, ['1','B']))):\n",
    "            bench = benchmarks[b]\n",
    "            coordinates = coordinates.type(bench.aev_computer.dtype)\n",
    "            try:\n",
    "                if m == '1':\n",
    "                    result = bench.oneByOne(coordinates, species)\n",
    "                elif m == 'B':\n",
    "                    result = bench.inBatch(coordinates, species)\n",
    "                else:\n",
    "                    raise ValueError('BUG here')\n",
    "                result['forward'] = result['aev'] + result['energy'] + result['neighborlist']\n",
    "                result['total'] = result['forward'] + result['force']\n",
    "            except RuntimeError as e:\n",
    "                print(e)\n",
    "                result = {'aev': None, 'energy': None, 'force': None, 'total': None, 'neighborlist': None }\n",
    "            results[b + ',' + m] = pretty_print(result)\n",
    "        df = pandas.DataFrame(results)\n",
    "        display(df)\n",
    "        break"
   ]
  },
  {
   "cell_type": "code",
   "execution_count": null,
   "metadata": {
    "collapsed": true
   },
   "outputs": [],
   "source": []
  }
 ],
 "metadata": {
  "kernelspec": {
   "display_name": "Python 3",
   "language": "python",
   "name": "python3"
  },
  "language_info": {
   "codemirror_mode": {
    "name": "ipython",
    "version": 3
   },
   "file_extension": ".py",
   "mimetype": "text/x-python",
   "name": "python",
   "nbconvert_exporter": "python",
   "pygments_lexer": "ipython3",
   "version": "3.6.3"
  }
 },
 "nbformat": 4,
 "nbformat_minor": 2
}
