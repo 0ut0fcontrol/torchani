{
 "cells": [
  {
   "cell_type": "markdown",
   "metadata": {},
   "source": [
    "This notebooks shows how to:\n",
    "* Use the built-in network and evaluate that network\n",
    "* Train a small network from scratch using the subset of ANI dataset shipped with TorchANI"
   ]
  },
  {
   "cell_type": "markdown",
   "metadata": {},
   "source": [
    "# Use the buildin network"
   ]
  },
  {
   "cell_type": "code",
   "execution_count": 1,
   "metadata": {},
   "outputs": [
    {
     "name": "stderr",
     "output_type": "stream",
     "text": [
      "/usr/local/anaconda3/lib/python3.6/site-packages/h5py/__init__.py:36: FutureWarning: Conversion of the second argument of issubdtype from `float` to `np.floating` is deprecated. In future, it will be treated as `np.float64 == np.dtype(float).type`.\n",
      "  from ._conv import register_converters as _register_converters\n"
     ]
    },
    {
     "data": {
      "application/vnd.jupyter.widget-view+json": {
       "model_id": "a5142bc605d94b85a2f30caa66a676a8",
       "version_major": 2,
       "version_minor": 0
      },
      "text/plain": [
       "A Jupyter Widget"
      ]
     },
     "metadata": {},
     "output_type": "display_data"
    },
    {
     "name": "stdout",
     "output_type": "stream",
     "text": [
      "\n",
      "RMSE is: 26.548645933722828 kcal/mol\n"
     ]
    }
   ],
   "source": [
    "import torch\n",
    "import torchani\n",
    "import tqdm\n",
    "import math\n",
    "\n",
    "aev_computer = torchani.AEV()\n",
    "model = torchani.ModelOnAEV(aev_computer, from_nc=None)\n",
    "ds = torchani.Dataset(torchani.buildin_dataset_dir)\n",
    "energy_shifter = torchani.EnergyShifter()\n",
    "loss = torch.nn.MSELoss(size_average=False)\n",
    "\n",
    "batch_size = math.inf\n",
    "total_se = 0\n",
    "total_conformations = 0\n",
    "\n",
    "for coordinates, energies, species in tqdm.tqdm_notebook(ds.iter(batch_size)):\n",
    "    total_conformations += coordinates.shape[0]\n",
    "    predicted_energies = model(coordinates, species).squeeze()\n",
    "    predicted_energies = energy_shifter.add_sae(predicted_energies, species)\n",
    "    total_se += loss(predicted_energies, energies).item()\n",
    "    \n",
    "mse = total_se / total_conformations\n",
    "rmse = math.sqrt(mse)\n",
    "print('RMSE is:', rmse * 627.509, 'kcal/mol')"
   ]
  },
  {
   "cell_type": "markdown",
   "metadata": {},
   "source": [
    "# Train a network"
   ]
  },
  {
   "cell_type": "code",
   "execution_count": 8,
   "metadata": {},
   "outputs": [
    {
     "name": "stdout",
     "output_type": "stream",
     "text": [
      "epoch time training_rmse validation_rmse\n",
      "0 52.01 46.14 16.31\n",
      "1 100.36 26.39 15.62\n",
      "2 151.88 19.67 11.68\n",
      "3 198.96 17.16 12.52\n",
      "4 246.32 15.35 14.11\n",
      "5 293.18 12.67 12.49\n",
      "6 340.02 10.34 10.1\n",
      "7 386.81 8.38 9.43\n",
      "8 433.52 7.14 9.65\n",
      "9 483.01 6.57 9.54\n",
      "10 537.41 7.6 8.98\n",
      "11 591.07 6.7 9.23\n",
      "12 644.96 5.83 8.83\n",
      "13 699.96 5.59 8.87\n",
      "14 754.26 5.06 8.69\n",
      "15 820.27 4.76 8.9\n",
      "16 888.07 4.55 9.05\n",
      "17 957.94 4.35 9.26\n",
      "18 1025.35 4.22 9.57\n"
     ]
    },
    {
     "ename": "KeyboardInterrupt",
     "evalue": "",
     "output_type": "error",
     "traceback": [
      "\u001b[0;31m---------------------------------------------------------------------------\u001b[0m",
      "\u001b[0;31mKeyboardInterrupt\u001b[0m                         Traceback (most recent call last)",
      "\u001b[0;32m<ipython-input-8-9469a2a8d48c>\u001b[0m in \u001b[0;36m<module>\u001b[0;34m()\u001b[0m\n\u001b[1;32m     94\u001b[0m     \u001b[0mstep_a\u001b[0m \u001b[0;34m=\u001b[0m \u001b[0mAverager\u001b[0m\u001b[0;34m(\u001b[0m\u001b[0;34m)\u001b[0m\u001b[0;34m\u001b[0m\u001b[0m\n\u001b[1;32m     95\u001b[0m     \u001b[0;32mfor\u001b[0m \u001b[0mi\u001b[0m \u001b[0;32min\u001b[0m \u001b[0mds\u001b[0m\u001b[0;34m.\u001b[0m\u001b[0miter\u001b[0m\u001b[0;34m(\u001b[0m\u001b[0mbatch_size\u001b[0m\u001b[0;34m,\u001b[0m \u001b[0;34m'train'\u001b[0m\u001b[0;34m)\u001b[0m\u001b[0;34m:\u001b[0m\u001b[0;34m\u001b[0m\u001b[0m\n\u001b[0;32m---> 96\u001b[0;31m         \u001b[0mcount\u001b[0m\u001b[0;34m,\u001b[0m \u001b[0msquared_error\u001b[0m \u001b[0;34m=\u001b[0m \u001b[0mevaluate\u001b[0m\u001b[0;34m(\u001b[0m\u001b[0;34m*\u001b[0m\u001b[0mi\u001b[0m\u001b[0;34m)\u001b[0m\u001b[0;34m\u001b[0m\u001b[0m\n\u001b[0m\u001b[1;32m     97\u001b[0m         \u001b[0mtotal_a\u001b[0m\u001b[0;34m.\u001b[0m\u001b[0madd\u001b[0m\u001b[0;34m(\u001b[0m\u001b[0mcount\u001b[0m\u001b[0;34m,\u001b[0m \u001b[0msquared_error\u001b[0m\u001b[0;34m.\u001b[0m\u001b[0mitem\u001b[0m\u001b[0;34m(\u001b[0m\u001b[0;34m)\u001b[0m\u001b[0;34m)\u001b[0m\u001b[0;34m\u001b[0m\u001b[0m\n\u001b[1;32m     98\u001b[0m         \u001b[0mstep_a\u001b[0m\u001b[0;34m.\u001b[0m\u001b[0madd\u001b[0m\u001b[0;34m(\u001b[0m\u001b[0mcount\u001b[0m\u001b[0;34m,\u001b[0m \u001b[0msquared_error\u001b[0m\u001b[0;34m)\u001b[0m\u001b[0;34m\u001b[0m\u001b[0m\n",
      "\u001b[0;32m<ipython-input-8-9469a2a8d48c>\u001b[0m in \u001b[0;36mevaluate\u001b[0;34m(coordinates, energies, species)\u001b[0m\n\u001b[1;32m     64\u001b[0m \u001b[0;32mdef\u001b[0m \u001b[0mevaluate\u001b[0m\u001b[0;34m(\u001b[0m\u001b[0mcoordinates\u001b[0m\u001b[0;34m,\u001b[0m \u001b[0menergies\u001b[0m\u001b[0;34m,\u001b[0m \u001b[0mspecies\u001b[0m\u001b[0;34m)\u001b[0m\u001b[0;34m:\u001b[0m\u001b[0;34m\u001b[0m\u001b[0m\n\u001b[1;32m     65\u001b[0m     \u001b[0mcount\u001b[0m \u001b[0;34m=\u001b[0m \u001b[0mcoordinates\u001b[0m\u001b[0;34m.\u001b[0m\u001b[0mshape\u001b[0m\u001b[0;34m[\u001b[0m\u001b[0;36m0\u001b[0m\u001b[0;34m]\u001b[0m\u001b[0;34m\u001b[0m\u001b[0m\n\u001b[0;32m---> 66\u001b[0;31m     \u001b[0mpred\u001b[0m \u001b[0;34m=\u001b[0m \u001b[0mmodel\u001b[0m\u001b[0;34m(\u001b[0m\u001b[0mcoordinates\u001b[0m\u001b[0;34m,\u001b[0m \u001b[0mspecies\u001b[0m\u001b[0;34m)\u001b[0m\u001b[0;34m.\u001b[0m\u001b[0msqueeze\u001b[0m\u001b[0;34m(\u001b[0m\u001b[0;34m)\u001b[0m\u001b[0;34m\u001b[0m\u001b[0m\n\u001b[0m\u001b[1;32m     67\u001b[0m     \u001b[0mpred\u001b[0m \u001b[0;34m=\u001b[0m \u001b[0menergy_shifter\u001b[0m\u001b[0;34m.\u001b[0m\u001b[0madd_sae\u001b[0m\u001b[0;34m(\u001b[0m\u001b[0mpred\u001b[0m\u001b[0;34m,\u001b[0m \u001b[0mspecies\u001b[0m\u001b[0;34m)\u001b[0m\u001b[0;34m\u001b[0m\u001b[0m\n\u001b[1;32m     68\u001b[0m     \u001b[0msquared_error\u001b[0m \u001b[0;34m=\u001b[0m \u001b[0mloss\u001b[0m\u001b[0;34m(\u001b[0m\u001b[0mpred\u001b[0m\u001b[0;34m,\u001b[0m \u001b[0menergies\u001b[0m\u001b[0;34m)\u001b[0m\u001b[0;34m\u001b[0m\u001b[0m\n",
      "\u001b[0;32m/usr/local/anaconda3/lib/python3.6/site-packages/torch/nn/modules/module.py\u001b[0m in \u001b[0;36m__call__\u001b[0;34m(self, *input, **kwargs)\u001b[0m\n\u001b[1;32m    489\u001b[0m             \u001b[0mresult\u001b[0m \u001b[0;34m=\u001b[0m \u001b[0mself\u001b[0m\u001b[0;34m.\u001b[0m\u001b[0m_slow_forward\u001b[0m\u001b[0;34m(\u001b[0m\u001b[0;34m*\u001b[0m\u001b[0minput\u001b[0m\u001b[0;34m,\u001b[0m \u001b[0;34m**\u001b[0m\u001b[0mkwargs\u001b[0m\u001b[0;34m)\u001b[0m\u001b[0;34m\u001b[0m\u001b[0m\n\u001b[1;32m    490\u001b[0m         \u001b[0;32melse\u001b[0m\u001b[0;34m:\u001b[0m\u001b[0;34m\u001b[0m\u001b[0m\n\u001b[0;32m--> 491\u001b[0;31m             \u001b[0mresult\u001b[0m \u001b[0;34m=\u001b[0m \u001b[0mself\u001b[0m\u001b[0;34m.\u001b[0m\u001b[0mforward\u001b[0m\u001b[0;34m(\u001b[0m\u001b[0;34m*\u001b[0m\u001b[0minput\u001b[0m\u001b[0;34m,\u001b[0m \u001b[0;34m**\u001b[0m\u001b[0mkwargs\u001b[0m\u001b[0;34m)\u001b[0m\u001b[0;34m\u001b[0m\u001b[0m\n\u001b[0m\u001b[1;32m    492\u001b[0m         \u001b[0;32mfor\u001b[0m \u001b[0mhook\u001b[0m \u001b[0;32min\u001b[0m \u001b[0mself\u001b[0m\u001b[0;34m.\u001b[0m\u001b[0m_forward_hooks\u001b[0m\u001b[0;34m.\u001b[0m\u001b[0mvalues\u001b[0m\u001b[0;34m(\u001b[0m\u001b[0;34m)\u001b[0m\u001b[0;34m:\u001b[0m\u001b[0;34m\u001b[0m\u001b[0m\n\u001b[1;32m    493\u001b[0m             \u001b[0mhook_result\u001b[0m \u001b[0;34m=\u001b[0m \u001b[0mhook\u001b[0m\u001b[0;34m(\u001b[0m\u001b[0mself\u001b[0m\u001b[0;34m,\u001b[0m \u001b[0minput\u001b[0m\u001b[0;34m,\u001b[0m \u001b[0mresult\u001b[0m\u001b[0;34m)\u001b[0m\u001b[0;34m\u001b[0m\u001b[0m\n",
      "\u001b[0;32m~/torchani/torchani/nn.py\u001b[0m in \u001b[0;36mforward\u001b[0;34m(self, coordinates, species)\u001b[0m\n\u001b[1;32m    485\u001b[0m         \u001b[0;32melse\u001b[0m\u001b[0;34m:\u001b[0m\u001b[0;34m\u001b[0m\u001b[0m\n\u001b[1;32m    486\u001b[0m             \u001b[0mcoordinates\u001b[0m \u001b[0;34m=\u001b[0m \u001b[0mtorch\u001b[0m\u001b[0;34m.\u001b[0m\u001b[0mtensor\u001b[0m\u001b[0;34m(\u001b[0m\u001b[0mcoordinates\u001b[0m\u001b[0;34m,\u001b[0m \u001b[0mrequires_grad\u001b[0m\u001b[0;34m=\u001b[0m\u001b[0;32mTrue\u001b[0m\u001b[0;34m)\u001b[0m\u001b[0;34m\u001b[0m\u001b[0m\n\u001b[0;32m--> 487\u001b[0;31m         \u001b[0maev\u001b[0m \u001b[0;34m=\u001b[0m \u001b[0mself\u001b[0m\u001b[0;34m.\u001b[0m\u001b[0mcompute_aev\u001b[0m\u001b[0;34m(\u001b[0m\u001b[0mcoordinates\u001b[0m\u001b[0;34m,\u001b[0m \u001b[0mspecies\u001b[0m\u001b[0;34m)\u001b[0m\u001b[0;34m\u001b[0m\u001b[0m\n\u001b[0m\u001b[1;32m    488\u001b[0m         \u001b[0moutput\u001b[0m \u001b[0;34m=\u001b[0m \u001b[0mself\u001b[0m\u001b[0;34m.\u001b[0m\u001b[0maev_to_output\u001b[0m\u001b[0;34m(\u001b[0m\u001b[0maev\u001b[0m\u001b[0;34m,\u001b[0m \u001b[0mspecies\u001b[0m\u001b[0;34m)\u001b[0m\u001b[0;34m\u001b[0m\u001b[0m\n\u001b[1;32m    489\u001b[0m         \u001b[0;32mif\u001b[0m \u001b[0;32mnot\u001b[0m \u001b[0mself\u001b[0m\u001b[0;34m.\u001b[0m\u001b[0mderivative\u001b[0m\u001b[0;34m:\u001b[0m\u001b[0;34m\u001b[0m\u001b[0m\n",
      "\u001b[0;32m~/torchani/torchani/nn.py\u001b[0m in \u001b[0;36mcompute_aev\u001b[0;34m(self, coordinates, species)\u001b[0m\n\u001b[1;32m    418\u001b[0m             \u001b[0mthe\u001b[0m \u001b[0mcomputed\u001b[0m \u001b[0mAEVs\u001b[0m\u001b[0;34m.\u001b[0m\u001b[0;34m\u001b[0m\u001b[0m\n\u001b[1;32m    419\u001b[0m         \"\"\"\n\u001b[0;32m--> 420\u001b[0;31m         \u001b[0mradial_aev\u001b[0m\u001b[0;34m,\u001b[0m \u001b[0mangular_aev\u001b[0m \u001b[0;34m=\u001b[0m \u001b[0mself\u001b[0m\u001b[0;34m.\u001b[0m\u001b[0maev_computer\u001b[0m\u001b[0;34m(\u001b[0m\u001b[0mcoordinates\u001b[0m\u001b[0;34m,\u001b[0m \u001b[0mspecies\u001b[0m\u001b[0;34m)\u001b[0m\u001b[0;34m\u001b[0m\u001b[0m\n\u001b[0m\u001b[1;32m    421\u001b[0m         \u001b[0mfullaev\u001b[0m \u001b[0;34m=\u001b[0m \u001b[0mtorch\u001b[0m\u001b[0;34m.\u001b[0m\u001b[0mcat\u001b[0m\u001b[0;34m(\u001b[0m\u001b[0;34m[\u001b[0m\u001b[0mradial_aev\u001b[0m\u001b[0;34m,\u001b[0m \u001b[0mangular_aev\u001b[0m\u001b[0;34m]\u001b[0m\u001b[0;34m,\u001b[0m \u001b[0mdim\u001b[0m\u001b[0;34m=\u001b[0m\u001b[0;36m2\u001b[0m\u001b[0;34m)\u001b[0m\u001b[0;34m\u001b[0m\u001b[0m\n\u001b[1;32m    422\u001b[0m         \u001b[0;32mreturn\u001b[0m \u001b[0mfullaev\u001b[0m\u001b[0;34m\u001b[0m\u001b[0m\n",
      "\u001b[0;32m/usr/local/anaconda3/lib/python3.6/site-packages/torch/nn/modules/module.py\u001b[0m in \u001b[0;36m__call__\u001b[0;34m(self, *input, **kwargs)\u001b[0m\n\u001b[1;32m    489\u001b[0m             \u001b[0mresult\u001b[0m \u001b[0;34m=\u001b[0m \u001b[0mself\u001b[0m\u001b[0;34m.\u001b[0m\u001b[0m_slow_forward\u001b[0m\u001b[0;34m(\u001b[0m\u001b[0;34m*\u001b[0m\u001b[0minput\u001b[0m\u001b[0;34m,\u001b[0m \u001b[0;34m**\u001b[0m\u001b[0mkwargs\u001b[0m\u001b[0;34m)\u001b[0m\u001b[0;34m\u001b[0m\u001b[0m\n\u001b[1;32m    490\u001b[0m         \u001b[0;32melse\u001b[0m\u001b[0;34m:\u001b[0m\u001b[0;34m\u001b[0m\u001b[0m\n\u001b[0;32m--> 491\u001b[0;31m             \u001b[0mresult\u001b[0m \u001b[0;34m=\u001b[0m \u001b[0mself\u001b[0m\u001b[0;34m.\u001b[0m\u001b[0mforward\u001b[0m\u001b[0;34m(\u001b[0m\u001b[0;34m*\u001b[0m\u001b[0minput\u001b[0m\u001b[0;34m,\u001b[0m \u001b[0;34m**\u001b[0m\u001b[0mkwargs\u001b[0m\u001b[0;34m)\u001b[0m\u001b[0;34m\u001b[0m\u001b[0m\n\u001b[0m\u001b[1;32m    492\u001b[0m         \u001b[0;32mfor\u001b[0m \u001b[0mhook\u001b[0m \u001b[0;32min\u001b[0m \u001b[0mself\u001b[0m\u001b[0;34m.\u001b[0m\u001b[0m_forward_hooks\u001b[0m\u001b[0;34m.\u001b[0m\u001b[0mvalues\u001b[0m\u001b[0;34m(\u001b[0m\u001b[0;34m)\u001b[0m\u001b[0;34m:\u001b[0m\u001b[0;34m\u001b[0m\u001b[0m\n\u001b[1;32m    493\u001b[0m             \u001b[0mhook_result\u001b[0m \u001b[0;34m=\u001b[0m \u001b[0mhook\u001b[0m\u001b[0;34m(\u001b[0m\u001b[0mself\u001b[0m\u001b[0;34m,\u001b[0m \u001b[0minput\u001b[0m\u001b[0;34m,\u001b[0m \u001b[0mresult\u001b[0m\u001b[0;34m)\u001b[0m\u001b[0;34m\u001b[0m\u001b[0m\n",
      "\u001b[0;32m~/torchani/torchani/aev.py\u001b[0m in \u001b[0;36mforward\u001b[0;34m(self, coordinates, species)\u001b[0m\n\u001b[1;32m    278\u001b[0m         \u001b[0;31m# For the docstring of this method, refer to the base class\u001b[0m\u001b[0;34m\u001b[0m\u001b[0;34m\u001b[0m\u001b[0m\n\u001b[1;32m    279\u001b[0m         \u001b[0mneighbors\u001b[0m \u001b[0;34m=\u001b[0m \u001b[0mself\u001b[0m\u001b[0;34m.\u001b[0m\u001b[0mcompute_neighborlist\u001b[0m\u001b[0;34m(\u001b[0m\u001b[0mcoordinates\u001b[0m\u001b[0;34m,\u001b[0m \u001b[0mspecies\u001b[0m\u001b[0;34m)\u001b[0m\u001b[0;34m\u001b[0m\u001b[0m\n\u001b[0;32m--> 280\u001b[0;31m         \u001b[0;32mreturn\u001b[0m \u001b[0mself\u001b[0m\u001b[0;34m.\u001b[0m\u001b[0mcompute_aev_using_neighborlist\u001b[0m\u001b[0;34m(\u001b[0m\u001b[0mcoordinates\u001b[0m\u001b[0;34m,\u001b[0m \u001b[0mspecies\u001b[0m\u001b[0;34m,\u001b[0m \u001b[0mneighbors\u001b[0m\u001b[0;34m)\u001b[0m\u001b[0;34m\u001b[0m\u001b[0m\n\u001b[0m\u001b[1;32m    281\u001b[0m \u001b[0;34m\u001b[0m\u001b[0m\n\u001b[1;32m    282\u001b[0m     \u001b[0;32mdef\u001b[0m \u001b[0mexport_radial_subaev_onnx\u001b[0m\u001b[0;34m(\u001b[0m\u001b[0mself\u001b[0m\u001b[0;34m,\u001b[0m \u001b[0mfilename\u001b[0m\u001b[0;34m)\u001b[0m\u001b[0;34m:\u001b[0m\u001b[0;34m\u001b[0m\u001b[0m\n",
      "\u001b[0;32m~/torchani/torchani/aev.py\u001b[0m in \u001b[0;36mcompute_aev_using_neighborlist\u001b[0;34m(self, coordinates, species, neighbor_indices)\u001b[0m\n\u001b[1;32m    265\u001b[0m                             neighbors_j, 2, dim=1, newdim=2)\n\u001b[1;32m    266\u001b[0m                     angular_aev.append(self.angular_subaev(\n\u001b[0;32m--> 267\u001b[0;31m                         coordinates[:, i, :], neighbors))\n\u001b[0m\u001b[1;32m    268\u001b[0m                 \u001b[0;32mexcept\u001b[0m \u001b[0mAEVIsZero\u001b[0m\u001b[0;34m:\u001b[0m\u001b[0;34m\u001b[0m\u001b[0m\n\u001b[1;32m    269\u001b[0m                     \u001b[0;31m# If unable to find pair of neighbor atoms with desired species, fill the subAEV with zeros\u001b[0m\u001b[0;34m\u001b[0m\u001b[0;34m\u001b[0m\u001b[0m\n",
      "\u001b[0;32m~/torchani/torchani/aev.py\u001b[0m in \u001b[0;36mangular_subaev\u001b[0;34m(self, center, neighbors)\u001b[0m\n\u001b[1;32m     97\u001b[0m         \"\"\"\n\u001b[1;32m     98\u001b[0m         \u001b[0mpairs\u001b[0m \u001b[0;34m=\u001b[0m \u001b[0mneighbors\u001b[0m\u001b[0;34m.\u001b[0m\u001b[0mshape\u001b[0m\u001b[0;34m[\u001b[0m\u001b[0;36m1\u001b[0m\u001b[0;34m]\u001b[0m\u001b[0;34m\u001b[0m\u001b[0m\n\u001b[0;32m---> 99\u001b[0;31m         \u001b[0mRij_vec\u001b[0m \u001b[0;34m=\u001b[0m \u001b[0mneighbors\u001b[0m \u001b[0;34m-\u001b[0m \u001b[0mcenter\u001b[0m\u001b[0;34m.\u001b[0m\u001b[0mview\u001b[0m\u001b[0;34m(\u001b[0m\u001b[0;34m-\u001b[0m\u001b[0;36m1\u001b[0m\u001b[0;34m,\u001b[0m \u001b[0;36m1\u001b[0m\u001b[0;34m,\u001b[0m \u001b[0;36m1\u001b[0m\u001b[0;34m,\u001b[0m \u001b[0;36m3\u001b[0m\u001b[0;34m)\u001b[0m\u001b[0;34m\u001b[0m\u001b[0m\n\u001b[0m\u001b[1;32m    100\u001b[0m         \"\"\"pytorch tensor of shape (conformations, N, 2, 3) storing the Rij vectors where i is the\n\u001b[1;32m    101\u001b[0m         \u001b[0mcenter\u001b[0m \u001b[0matom\u001b[0m\u001b[0;34m,\u001b[0m \u001b[0;32mand\u001b[0m \u001b[0mj\u001b[0m \u001b[0;32mis\u001b[0m \u001b[0ma\u001b[0m \u001b[0mneighbor\u001b[0m\u001b[0;34m.\u001b[0m \u001b[0mThe\u001b[0m \u001b[0mvector\u001b[0m \u001b[0;34m(\u001b[0m\u001b[0mn\u001b[0m\u001b[0;34m,\u001b[0m\u001b[0mk\u001b[0m\u001b[0;34m,\u001b[0m\u001b[0ml\u001b[0m\u001b[0;34m,\u001b[0m\u001b[0;34m:\u001b[0m\u001b[0;34m)\u001b[0m \u001b[0;32mis\u001b[0m \u001b[0mthe\u001b[0m \u001b[0mRij\u001b[0m \u001b[0mwhere\u001b[0m \u001b[0mj\u001b[0m \u001b[0mrefer\u001b[0m \u001b[0mto\u001b[0m \u001b[0mthe\u001b[0m \u001b[0ml\u001b[0m\u001b[0;34m-\u001b[0m\u001b[0mth\u001b[0m\u001b[0;34m\u001b[0m\u001b[0m\n",
      "\u001b[0;31mKeyboardInterrupt\u001b[0m: "
     ]
    }
   ],
   "source": [
    "import torch\n",
    "import torchani\n",
    "import tqdm\n",
    "import math\n",
    "import timeit\n",
    "\n",
    "aev_computer = torchani.AEV()\n",
    "\n",
    "def celu(x, alpha):\n",
    "    return torch.where(x > 0, x, alpha * (torch.exp(x/alpha)-1))\n",
    "\n",
    "class AtomicNetwork(torch.nn.Module):\n",
    "    \n",
    "    def __init__(self):\n",
    "        super(AtomicNetwork, self).__init__()\n",
    "        self.output_length = 1\n",
    "        self.layer1 = torch.nn.Linear(384,128).type(aev_computer.dtype).to(aev_computer.device)\n",
    "        self.layer2 = torch.nn.Linear(128,128).type(aev_computer.dtype).to(aev_computer.device)\n",
    "        self.layer3 = torch.nn.Linear(128,64).type(aev_computer.dtype).to(aev_computer.device)\n",
    "        self.layer4 = torch.nn.Linear(64,1).type(aev_computer.dtype).to(aev_computer.device)\n",
    "        \n",
    "    def forward(self, aev):\n",
    "        y = aev\n",
    "        y = self.layer1(y)\n",
    "        y = celu(y, 0.1)\n",
    "        y = self.layer2(y)\n",
    "        y = celu(y, 0.1)\n",
    "        y = self.layer3(y)\n",
    "        y = celu(y, 0.1)\n",
    "        y = self.layer4(y)\n",
    "        return y\n",
    "\n",
    "model = torchani.ModelOnAEV(aev_computer, reducer=torch.sum,\n",
    "                            per_species = {\n",
    "                                'C' : AtomicNetwork(),\n",
    "                                'H' : AtomicNetwork(),\n",
    "                                'N' : AtomicNetwork(),\n",
    "                                'O' : AtomicNetwork(),\n",
    "                            })\n",
    "energy_shifter = torchani.EnergyShifter()\n",
    "loss = torch.nn.MSELoss(size_average=False)\n",
    "\n",
    "ds = torchani.Dataset(torchani.buildin_dataset_dir)\n",
    "ds.shuffle()\n",
    "ds.split(('train', 0.8), ('validate', 0.1), ('test', 0.1))\n",
    "\n",
    "batch_size = 256\n",
    "backward_every = 4\n",
    "optimizer = torch.optim.Adam(model.parameters(), amsgrad=True)\n",
    "\n",
    "class Averager:\n",
    "    \n",
    "    def __init__(self):\n",
    "        self.count = 0\n",
    "        self.subtotal = 0\n",
    "        \n",
    "    def add(self, count, subtotal):\n",
    "        self.count += count\n",
    "        self.subtotal += subtotal\n",
    "        \n",
    "    def avg(self):\n",
    "        return self.subtotal / self.count\n",
    "    \n",
    "def evaluate(coordinates, energies, species):\n",
    "    count = coordinates.shape[0]\n",
    "    pred = model(coordinates, species).squeeze()\n",
    "    pred = energy_shifter.add_sae(pred, species)\n",
    "    squared_error = loss(pred, energies)\n",
    "    return count, squared_error\n",
    "\n",
    "def subset_rmse(name):\n",
    "    a = Averager()\n",
    "    for i in ds.iter(math.inf, name):\n",
    "        count, squared_error = evaluate(*i)\n",
    "        a.add(count, squared_error.item())\n",
    "    return math.sqrt(a.avg())\n",
    "\n",
    "def optimize_step(mse):\n",
    "    loss = 0.5 * torch.exp(2 * mse) if epoch > 10 else mse\n",
    "    optimizer.zero_grad()\n",
    "    loss.backward()\n",
    "    optimizer.step()\n",
    "\n",
    "batch_size = 1024\n",
    "step_every = 1\n",
    "batch = 1\n",
    "epoch = 0\n",
    "best_validate_rmse = math.inf\n",
    "best_epoch = 0\n",
    "print('epoch','time','training_rmse', 'validation_rmse')\n",
    "start = timeit.default_timer()\n",
    "while True:\n",
    "    total_a = Averager()\n",
    "    step_a = Averager()\n",
    "    for i in ds.iter(batch_size, 'train'):\n",
    "        count, squared_error = evaluate(*i)\n",
    "        total_a.add(count, squared_error.item())\n",
    "        step_a.add(count, squared_error)\n",
    "        batch += 1\n",
    "        if batch % step_every == 0:\n",
    "            optimize_step(step_a.avg())\n",
    "            step_a = Averager()\n",
    "    if step_a.count > 0:\n",
    "        optimize_step(step_a.avg())\n",
    "        \n",
    "    training_rmse = round(math.sqrt(total_a.avg()) * 627.509, 2)\n",
    "    validate_rmse = round(subset_rmse('validate') * 627.509, 2)\n",
    "    elapsed = round(timeit.default_timer() - start, 2)\n",
    "    print(epoch, elapsed, training_rmse, validate_rmse)\n",
    "    \n",
    "    # stop if no improvement in 1000 epoches\n",
    "    if validate_rmse < best_validate_rmse:\n",
    "        best_validate_rmse = validate_rmse\n",
    "        best_epoch = epoch\n",
    "    epoch += 1\n",
    "    if epoch - best_epoch > 1000:\n",
    "        break\n",
    "\n",
    "test_rmse = round(subset_rmse('test') * 627.509, 2)\n",
    "print('Done training, test RMSE is', test_rmse)"
   ]
  },
  {
   "cell_type": "code",
   "execution_count": null,
   "metadata": {
    "collapsed": true
   },
   "outputs": [],
   "source": []
  }
 ],
 "metadata": {
  "kernelspec": {
   "display_name": "Python 3",
   "language": "python",
   "name": "python3"
  },
  "language_info": {
   "codemirror_mode": {
    "name": "ipython",
    "version": 3
   },
   "file_extension": ".py",
   "mimetype": "text/x-python",
   "name": "python",
   "nbconvert_exporter": "python",
   "pygments_lexer": "ipython3",
   "version": "3.6.3"
  }
 },
 "nbformat": 4,
 "nbformat_minor": 2
}
